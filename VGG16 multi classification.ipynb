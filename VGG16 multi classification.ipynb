{
 "cells": [
  {
   "cell_type": "code",
   "execution_count": 40,
   "metadata": {
    "id": "cj24FVxsKHwA"
   },
   "outputs": [],
   "source": [
    "import numpy as np\n",
    "import matplotlib.pyplot as plt\n",
    "import tensorflow as tf\n",
    "import matplotlib.pyplot as plt\n",
    "from tensorflow import keras\n",
    "from tensorflow.keras.preprocessing.image import ImageDataGenerator"
   ]
  },
  {
   "cell_type": "code",
   "execution_count": 2,
   "metadata": {
    "id": "pZH0lkCnKHzZ"
   },
   "outputs": [],
   "source": [
    "train_path = 'D:\\\\Neural Network\\\\CNN\\\\multi label classification\\\\train-20230214T131531Z-001\\\\train'\n",
    "test_path = 'D:\\\\Neural Network\\\\CNN\\\\multi label classification\\\\test-20230214T131518Z-001\\\\test'"
   ]
  },
  {
   "cell_type": "code",
   "execution_count": 3,
   "metadata": {
    "id": "OxwPGcljKH3P"
   },
   "outputs": [],
   "source": [
    "preprocessing_train = ImageDataGenerator(rescale = 1./255,shear_range = 0.2,zoom_range = 0.4,vertical_flip = True,horizontal_flip= True)\n",
    "preprocessing_test = ImageDataGenerator(rescale = 1./255)"
   ]
  },
  {
   "cell_type": "code",
   "execution_count": 4,
   "metadata": {
    "id": "KZDZLUDaKH5p"
   },
   "outputs": [],
   "source": [
    "labels = ['COVID19','NORMAL','PNEUMONIA']"
   ]
  },
  {
   "cell_type": "code",
   "execution_count": 5,
   "metadata": {
    "colab": {
     "base_uri": "https://localhost:8080/"
    },
    "id": "d1FLTisrKH9g",
    "outputId": "287cb523-4d14-47b5-ad6b-656f337601bc"
   },
   "outputs": [
    {
     "name": "stdout",
     "output_type": "stream",
     "text": [
      "Found 2555 images belonging to 3 classes.\n",
      "Found 1288 images belonging to 3 classes.\n"
     ]
    }
   ],
   "source": [
    "train_data = preprocessing_train.flow_from_directory(train_path,target_size=[256,256],classes=labels,class_mode='categorical',batch_size = 32)\n",
    "test_data = preprocessing_train.flow_from_directory(test_path,target_size=[256,256],classes=labels,class_mode='categorical',batch_size = 32)"
   ]
  },
  {
   "cell_type": "markdown",
   "metadata": {
    "id": "YFtsT0BjN-zl"
   },
   "source": [
    " Now i am not deploying my own custom model so i am talking a copy of VGG16 Architecture"
   ]
  },
  {
   "cell_type": "code",
   "execution_count": 6,
   "metadata": {
    "id": "SKJ92S1SKIDm"
   },
   "outputs": [],
   "source": [
    "from tensorflow.keras.applications.vgg16 import VGG16"
   ]
  },
  {
   "cell_type": "markdown",
   "metadata": {
    "id": "0qRUshY_OgnZ"
   },
   "source": [
    "making image size"
   ]
  },
  {
   "cell_type": "code",
   "execution_count": 7,
   "metadata": {
    "id": "FrHwGGJaPkxJ"
   },
   "outputs": [],
   "source": [
    "image_size = [256,256]"
   ]
  },
  {
   "cell_type": "code",
   "execution_count": 8,
   "metadata": {
    "colab": {
     "base_uri": "https://localhost:8080/"
    },
    "id": "FPSc7xKVKIJq",
    "outputId": "36286c05-1b71-4aff-918b-41cf7809bc5f"
   },
   "outputs": [],
   "source": [
    "vgg = VGG16(input_shape = image_size+[3],weights = \"imagenet\",include_top=False)\n"
   ]
  },
  {
   "cell_type": "code",
   "execution_count": 9,
   "metadata": {
    "id": "uDG1OeheKIN8"
   },
   "outputs": [],
   "source": [
    "for i in vgg.layers:\n",
    "  i.trainable = False"
   ]
  },
  {
   "cell_type": "code",
   "execution_count": 10,
   "metadata": {
    "id": "kpZ1P-oLQkXd"
   },
   "outputs": [],
   "source": [
    "from tensorflow.keras.layers import Flatten "
   ]
  },
  {
   "cell_type": "markdown",
   "metadata": {
    "id": "BE4TsrnGQxKU"
   },
   "source": [
    "Developing my own output layer"
   ]
  },
  {
   "cell_type": "code",
   "execution_count": 11,
   "metadata": {
    "id": "vIzAqDcrQkbH"
   },
   "outputs": [],
   "source": [
    "y = Flatten()(vgg.output)"
   ]
  },
  {
   "cell_type": "code",
   "execution_count": 12,
   "metadata": {
    "id": "bDGpK-zlKIRF"
   },
   "outputs": [],
   "source": [
    "from tensorflow.keras.layers import Dense\n",
    "from tensorflow.keras.activations import softmax"
   ]
  },
  {
   "cell_type": "code",
   "execution_count": 13,
   "metadata": {
    "id": "ndzEjHnfKIUA"
   },
   "outputs": [],
   "source": [
    "from keras.api._v2.keras import activations\n",
    "final = Dense(3,activation=\"softmax\")(y)"
   ]
  },
  {
   "cell_type": "code",
   "execution_count": 14,
   "metadata": {
    "id": "X8bCJ-QkKIWs"
   },
   "outputs": [],
   "source": [
    "from tensorflow.keras.models import Model"
   ]
  },
  {
   "cell_type": "code",
   "execution_count": 15,
   "metadata": {
    "id": "N6Uu_AXyKIZ5"
   },
   "outputs": [],
   "source": [
    "vgg16_model = Model(vgg.inputs,final)\n"
   ]
  },
  {
   "cell_type": "code",
   "execution_count": 16,
   "metadata": {
    "colab": {
     "base_uri": "https://localhost:8080/"
    },
    "id": "465LrAr-KIcq",
    "outputId": "806cc062-3be0-4d67-cfbe-9103766e26a8"
   },
   "outputs": [
    {
     "name": "stdout",
     "output_type": "stream",
     "text": [
      "Model: \"model\"\n",
      "_________________________________________________________________\n",
      " Layer (type)                Output Shape              Param #   \n",
      "=================================================================\n",
      " input_1 (InputLayer)        [(None, 256, 256, 3)]     0         \n",
      "                                                                 \n",
      " block1_conv1 (Conv2D)       (None, 256, 256, 64)      1792      \n",
      "                                                                 \n",
      " block1_conv2 (Conv2D)       (None, 256, 256, 64)      36928     \n",
      "                                                                 \n",
      " block1_pool (MaxPooling2D)  (None, 128, 128, 64)      0         \n",
      "                                                                 \n",
      " block2_conv1 (Conv2D)       (None, 128, 128, 128)     73856     \n",
      "                                                                 \n",
      " block2_conv2 (Conv2D)       (None, 128, 128, 128)     147584    \n",
      "                                                                 \n",
      " block2_pool (MaxPooling2D)  (None, 64, 64, 128)       0         \n",
      "                                                                 \n",
      " block3_conv1 (Conv2D)       (None, 64, 64, 256)       295168    \n",
      "                                                                 \n",
      " block3_conv2 (Conv2D)       (None, 64, 64, 256)       590080    \n",
      "                                                                 \n",
      " block3_conv3 (Conv2D)       (None, 64, 64, 256)       590080    \n",
      "                                                                 \n",
      " block3_pool (MaxPooling2D)  (None, 32, 32, 256)       0         \n",
      "                                                                 \n",
      " block4_conv1 (Conv2D)       (None, 32, 32, 512)       1180160   \n",
      "                                                                 \n",
      " block4_conv2 (Conv2D)       (None, 32, 32, 512)       2359808   \n",
      "                                                                 \n",
      " block4_conv3 (Conv2D)       (None, 32, 32, 512)       2359808   \n",
      "                                                                 \n",
      " block4_pool (MaxPooling2D)  (None, 16, 16, 512)       0         \n",
      "                                                                 \n",
      " block5_conv1 (Conv2D)       (None, 16, 16, 512)       2359808   \n",
      "                                                                 \n",
      " block5_conv2 (Conv2D)       (None, 16, 16, 512)       2359808   \n",
      "                                                                 \n",
      " block5_conv3 (Conv2D)       (None, 16, 16, 512)       2359808   \n",
      "                                                                 \n",
      " block5_pool (MaxPooling2D)  (None, 8, 8, 512)         0         \n",
      "                                                                 \n",
      " flatten (Flatten)           (None, 32768)             0         \n",
      "                                                                 \n",
      " dense (Dense)               (None, 3)                 98307     \n",
      "                                                                 \n",
      "=================================================================\n",
      "Total params: 14,812,995\n",
      "Trainable params: 98,307\n",
      "Non-trainable params: 14,714,688\n",
      "_________________________________________________________________\n"
     ]
    }
   ],
   "source": [
    "vgg16_model.summary()"
   ]
  },
  {
   "cell_type": "code",
   "execution_count": 17,
   "metadata": {
    "id": "2YXY-ksCKIfQ"
   },
   "outputs": [],
   "source": [
    "vgg16_model.compile(optimizer = 'adam',loss =\"categorical_crossentropy\",metrics = [\"Accuracy\"])"
   ]
  },
  {
   "cell_type": "code",
   "execution_count": 18,
   "metadata": {
    "colab": {
     "base_uri": "https://localhost:8080/",
     "height": 1000
    },
    "id": "rEnYjOJBKIiH",
    "outputId": "7fd7d660-debd-47a8-8c7b-d3cf2d4b454a"
   },
   "outputs": [
    {
     "name": "stdout",
     "output_type": "stream",
     "text": [
      "Epoch 1/5\n",
      "80/80 [==============================] - 1420s 18s/step - loss: 0.5578 - Accuracy: 0.8059\n",
      "Epoch 2/5\n",
      "80/80 [==============================] - 1388s 17s/step - loss: 0.2677 - Accuracy: 0.9033\n",
      "Epoch 3/5\n",
      "80/80 [==============================] - 1414s 18s/step - loss: 0.2469 - Accuracy: 0.9080\n",
      "Epoch 4/5\n",
      "80/80 [==============================] - 1315s 16s/step - loss: 0.2107 - Accuracy: 0.9217\n",
      "Epoch 5/5\n",
      "80/80 [==============================] - 1444s 18s/step - loss: 0.1778 - Accuracy: 0.9311\n"
     ]
    },
    {
     "data": {
      "text/plain": [
       "<keras.callbacks.History at 0x276b86d58e0>"
      ]
     },
     "execution_count": 18,
     "metadata": {},
     "output_type": "execute_result"
    }
   ],
   "source": [
    "vgg16_model.fit(train_data,epochs = 5)"
   ]
  },
  {
   "cell_type": "markdown",
   "metadata": {
    "id": "p9WF4MouT4or"
   },
   "source": [
    "Chicking with Test Data"
   ]
  },
  {
   "cell_type": "code",
   "execution_count": 19,
   "metadata": {
    "id": "3-9ski3CT-ZB"
   },
   "outputs": [
    {
     "data": {
      "text/plain": [
       "array([0, 0, 0, ..., 2, 2, 2])"
      ]
     },
     "execution_count": 19,
     "metadata": {},
     "output_type": "execute_result"
    }
   ],
   "source": [
    "test_data.classes"
   ]
  },
  {
   "cell_type": "code",
   "execution_count": 20,
   "metadata": {},
   "outputs": [
    {
     "name": "stdout",
     "output_type": "stream",
     "text": [
      "41/41 [==============================] - 787s 19s/step\n"
     ]
    }
   ],
   "source": [
    "y_test_pred = vgg16_model.predict(test_data)"
   ]
  },
  {
   "cell_type": "code",
   "execution_count": 43,
   "metadata": {},
   "outputs": [
    {
     "data": {
      "text/plain": [
       "array([[6.2566301e-06, 9.8638815e-01, 1.3605653e-02],\n",
       "       [7.8432828e-01, 1.2027421e-02, 2.0364426e-01],\n",
       "       [5.0389666e-05, 2.7712410e-02, 9.7223717e-01],\n",
       "       ...,\n",
       "       [2.1803087e-05, 9.7528833e-01, 2.4689818e-02],\n",
       "       [9.8449782e-05, 9.5999408e-01, 3.9907459e-02],\n",
       "       [6.1819509e-02, 1.8915407e-01, 7.4902642e-01]], dtype=float32)"
      ]
     },
     "execution_count": 43,
     "metadata": {},
     "output_type": "execute_result"
    }
   ],
   "source": [
    "y_test_pred"
   ]
  },
  {
   "cell_type": "code",
   "execution_count": 44,
   "metadata": {},
   "outputs": [
    {
     "data": {
      "text/plain": [
       "array([1, 0, 2, ..., 1, 1, 2], dtype=int64)"
      ]
     },
     "execution_count": 44,
     "metadata": {},
     "output_type": "execute_result"
    }
   ],
   "source": [
    "sol = np.argmax(y_test_pred , axis = 1)\n",
    "sol"
   ]
  },
  {
   "cell_type": "code",
   "execution_count": 45,
   "metadata": {},
   "outputs": [
    {
     "data": {
      "text/plain": [
       "array([0, 0, 0, 0, 0, 0, 0, 0, 0, 0])"
      ]
     },
     "execution_count": 45,
     "metadata": {},
     "output_type": "execute_result"
    }
   ],
   "source": [
    "test_data.classes[:10]"
   ]
  },
  {
   "cell_type": "code",
   "execution_count": 46,
   "metadata": {},
   "outputs": [
    {
     "data": {
      "text/plain": [
       "1288"
      ]
     },
     "execution_count": 46,
     "metadata": {},
     "output_type": "execute_result"
    }
   ],
   "source": [
    "len(test_data.classes)"
   ]
  },
  {
   "cell_type": "code",
   "execution_count": 47,
   "metadata": {},
   "outputs": [],
   "source": [
    "from sklearn.metrics import accuracy_score , classification_report , confusion_matrix"
   ]
  },
  {
   "cell_type": "code",
   "execution_count": 48,
   "metadata": {},
   "outputs": [
    {
     "data": {
      "text/plain": [
       "0.49301242236024845"
      ]
     },
     "execution_count": 48,
     "metadata": {},
     "output_type": "execute_result"
    }
   ],
   "source": [
    "accuracy_score(test_data.classes,sol)"
   ]
  },
  {
   "cell_type": "code",
   "execution_count": 49,
   "metadata": {},
   "outputs": [
    {
     "data": {
      "text/plain": [
       "array([[ 12,  32,  72],\n",
       "       [ 35, 106, 176],\n",
       "       [ 81, 257, 517]], dtype=int64)"
      ]
     },
     "execution_count": 49,
     "metadata": {},
     "output_type": "execute_result"
    }
   ],
   "source": [
    "confusion_matrix(test_data.classes,sol)"
   ]
  },
  {
   "cell_type": "code",
   "execution_count": 50,
   "metadata": {},
   "outputs": [
    {
     "name": "stdout",
     "output_type": "stream",
     "text": [
      "              precision    recall  f1-score   support\n",
      "\n",
      "           0       0.09      0.10      0.10       116\n",
      "           1       0.27      0.33      0.30       317\n",
      "           2       0.68      0.60      0.64       855\n",
      "\n",
      "    accuracy                           0.49      1288\n",
      "   macro avg       0.35      0.35      0.34      1288\n",
      "weighted avg       0.52      0.49      0.51      1288\n",
      "\n"
     ]
    }
   ],
   "source": [
    "print(classification_report(test_data.classes,sol))"
   ]
  },
  {
   "cell_type": "markdown",
   "metadata": {},
   "source": [
    "checking with real data"
   ]
  },
  {
   "cell_type": "code",
   "execution_count": 51,
   "metadata": {},
   "outputs": [],
   "source": [
    "import cv2"
   ]
  },
  {
   "cell_type": "code",
   "execution_count": 52,
   "metadata": {},
   "outputs": [],
   "source": [
    "labels = ['COVID19','NORMAL','PNEUMONIA']"
   ]
  },
  {
   "cell_type": "code",
   "execution_count": 53,
   "metadata": {},
   "outputs": [],
   "source": [
    "from tensorflow.keras.preprocessing import image"
   ]
  },
  {
   "cell_type": "code",
   "execution_count": 63,
   "metadata": {},
   "outputs": [],
   "source": [
    "def fun(path):\n",
    "    #load the image\n",
    "    image = plt.imread(path)\n",
    "    print(image.shape)\n",
    "    image = cv2.resize(image,(256,256))\n",
    "    print(image.shape)\n",
    "    #since training has done with pixel value after scalling down to 0-1 so the test also we need to scale down into 0-1\n",
    "    image = np.array(image)/255\n",
    "    #now we need to make sure convert data into deep learing cnn trained manner\n",
    "    image = np.expand_dims(image,axis =0)\n",
    "    print(image.shape)\n",
    "    \n",
    "    \n",
    "    # giving the data to training madel\n",
    "    result = vgg16_model.predict(image)\n",
    "    print(result)\n",
    "    sol = np.argmax(result,axis=1)\n",
    "    print(sol[0])\n",
    "    print(labels[sol[0]])\n",
    "    img = plt.imread(path)\n",
    "    plt.imshow(img)"
   ]
  },
  {
   "cell_type": "code",
   "execution_count": 64,
   "metadata": {},
   "outputs": [
    {
     "name": "stdout",
     "output_type": "stream",
     "text": [
      "(183, 275, 3)\n",
      "(256, 256, 3)\n",
      "(1, 256, 256, 3)\n",
      "1/1 [==============================] - 1s 697ms/step\n",
      "[[9.9156028e-01 6.0263084e-04 7.8371642e-03]]\n",
      "0\n",
      "COVID19\n"
     ]
    },
    {
     "data": {
      "image/png": "[encoded data removed]",
      "text/plain": [
       "<Figure size 432x288 with 1 Axes>"
      ]
     },
     "metadata": {
      "needs_background": "light"
     },
     "output_type": "display_data"
    }
   ],
   "source": [
    "fun(\"C:/Users/Lenovo/Downloads/images.jpeg\")"
   ]
  },
  {
   "cell_type": "code",
   "execution_count": 67,
   "metadata": {},
   "outputs": [
    {
     "name": "stdout",
     "output_type": "stream",
     "text": [
      "(225, 225, 3)\n",
      "(256, 256, 3)\n",
      "(1, 256, 256, 3)\n",
      "1/1 [==============================] - 0s 461ms/step\n",
      "[[0.29660103 0.70020163 0.00319732]]\n",
      "1\n",
      "NORMAL\n"
     ]
    },
    {
     "data": {
      "image/png": "[encoded data removed]",
      "text/plain": [
       "<Figure size 432x288 with 1 Axes>"
      ]
     },
     "metadata": {
      "needs_background": "light"
     },
     "output_type": "display_data"
    }
   ],
   "source": [
    "fun(\"C:/Users/Lenovo/Downloads/download (2).jpeg\")"
   ]
  },
  {
   "cell_type": "code",
   "execution_count": null,
   "metadata": {},
   "outputs": [],
   "source": []
  }
 ],
 "metadata": {
  "accelerator": "GPU",
  "colab": {
   "provenance": []
  },
  "gpuClass": "standard",
  "kernelspec": {
   "display_name": "Python 3 (ipykernel)",
   "language": "python",
   "name": "python3"
  },
  "language_info": {
   "codemirror_mode": {
    "name": "ipython",
    "version": 3
   },
   "file_extension": ".py",
   "mimetype": "text/x-python",
   "name": "python",
   "nbconvert_exporter": "python",
   "pygments_lexer": "ipython3",
   "version": "3.8.12"
  }
 },
 "nbformat": 4,
 "nbformat_minor": 1
}
